{
 "cells": [
  {
   "cell_type": "code",
   "execution_count": null,
   "metadata": {},
   "outputs": [],
   "source": []
  },
  {
   "cell_type": "code",
   "execution_count": 6,
   "metadata": {},
   "outputs": [
    {
     "ename": "ModuleNotFoundError",
     "evalue": "No module named 'statsapi'",
     "output_type": "error",
     "traceback": [
      "\u001b[1;31m---------------------------------------------------------------------------\u001b[0m",
      "\u001b[1;31mModuleNotFoundError\u001b[0m                       Traceback (most recent call last)",
      "\u001b[1;32m<ipython-input-6-7df978824d01>\u001b[0m in \u001b[0;36m<module>\u001b[1;34m()\u001b[0m\n\u001b[1;32m----> 1\u001b[1;33m \u001b[1;32mimport\u001b[0m \u001b[0mstatsapi\u001b[0m\u001b[1;33m\u001b[0m\u001b[0m\n\u001b[0m",
      "\u001b[1;31mModuleNotFoundError\u001b[0m: No module named 'statsapi'"
     ]
    }
   ],
   "source": [
    "import statsapi"
   ]
  },
  {
   "cell_type": "code",
   "execution_count": 5,
   "metadata": {},
   "outputs": [
    {
     "ename": "SyntaxError",
     "evalue": "invalid syntax (<ipython-input-5-105c41bd8fdb>, line 1)",
     "output_type": "error",
     "traceback": [
      "\u001b[1;36m  File \u001b[1;32m\"<ipython-input-5-105c41bd8fdb>\"\u001b[1;36m, line \u001b[1;32m1\u001b[0m\n\u001b[1;33m    from MLB-StatsAPI import statsapi\u001b[0m\n\u001b[1;37m            ^\u001b[0m\n\u001b[1;31mSyntaxError\u001b[0m\u001b[1;31m:\u001b[0m invalid syntax\n"
     ]
    }
   ],
   "source": [
    "import statsapi\n",
    "import pandas as pd\n",
    "import numpy as np\n",
    "from datetime import datetime\n",
    "import re\n",
    "\n",
    "def parse_box_score(box_score):\n",
    "    \"\"\"Parse traditional box score string into structured data.\"\"\"\n",
    "    lines = box_score.strip().split('\\n')\n",
    "    headers = re.findall(r'\\d+', lines[0])\n",
    "    team_scores = {}\n",
    "    \n",
    "    for line in lines[1:]:\n",
    "        parts = line.split()\n",
    "        team_name = ' '.join(parts[:-len(headers)-3])\n",
    "        scores = parts[-len(headers)-3:-3]\n",
    "        runs, hits, errors = parts[-3], parts[-2], parts[-1]\n",
    "        team_scores[team_name] = {\n",
    "            'Inning Scores': scores,\n",
    "            'Runs': runs,\n",
    "            'Hits': hits,\n",
    "            'Errors': errors\n",
    "        }\n",
    "    \n",
    "    return team_scores\n",
    "\n",
    "# Define the period for analysis\n",
    "start_date = '2023-04-01'\n",
    "end_date = '2023-04-30'\n",
    "\n",
    "# Fetch schedule for all games played between start_date and end_date\n",
    "sched = statsapi.schedule(start_date=start_date, end_date=end_date)\n",
    "\n",
    "# Prepare data for DataFrame\n",
    "data = []\n",
    "\n",
    "# Process each game in the schedule\n",
    "for game in sched:\n",
    "    game_id = game['game_id']\n",
    "    print(f\"Fetching linescore for game ID {game_id}\")\n",
    "    \n",
    "    try:\n",
    "        linescore = statsapi.linescore(game_id)\n",
    "        if isinstance(linescore, str):  # Assuming linescore returns a string format\n",
    "            parsed_data = parse_box_score(linescore)\n",
    "            # Append data for each team\n",
    "            for team, stats in parsed_data.items():\n",
    "                for inning, score in enumerate(stats['Inning Scores'], start=1):\n",
    "                    data.append((team, game_id, 'Offensive', inning, score))\n",
    "                # Derive defensive data (scores of the opponent)\n",
    "                for opponent_team, opponent_stats in parsed_data.items():\n",
    "                    if team != opponent_team:\n",
    "                        for inning, score in enumerate(opponent_stats['Inning Scores'], start=1):\n",
    "                            data.append((team, game_id, 'Defensive', inning, score))\n",
    "        else:\n",
    "            print(\"Invalid format or missing innings data\")\n",
    "    except Exception as e:\n",
    "        print(f\"Error fetching linescore for game ID {game_id}: {e}\")\n",
    "\n",
    "# Creating the DataFrame\n",
    "columns = ['Team', 'Game ID', 'Type', 'Inning', 'Score']\n",
    "df = pd.DataFrame(data, columns=columns)\n",
    "\n",
    "# Setting MultiIndex\n",
    "df.set_index(['Team', 'Game ID', 'Type', 'Inning'], inplace=True)\n",
    "\n",
    "# Display the DataFrame\n",
    "print(df)\n"
   ]
  }
 ],
 "metadata": {
  "kernelspec": {
   "display_name": "sports_stats_modelling",
   "language": "python",
   "name": "python3"
  },
  "language_info": {
   "codemirror_mode": {
    "name": "ipython",
    "version": 3
   },
   "file_extension": ".py",
   "mimetype": "text/x-python",
   "name": "python",
   "nbconvert_exporter": "python",
   "pygments_lexer": "ipython3",
   "version": "3.6.3"
  }
 },
 "nbformat": 4,
 "nbformat_minor": 2
}
